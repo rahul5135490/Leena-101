{
 "cells": [
  {
   "cell_type": "code",
   "execution_count": 1,
   "id": "edc8b164-2b54-490d-a969-07cf2ddec0f4",
   "metadata": {},
   "outputs": [],
   "source": [
    "import cv2\n",
    "import numpy as np\n",
    "import os"
   ]
  },
  {
   "cell_type": "code",
   "execution_count": 2,
   "id": "63da5908-dbf0-49bc-94c5-d962157ed7e2",
   "metadata": {},
   "outputs": [],
   "source": [
    "img=cv2.imread(\"lena5.jpg\")"
   ]
  },
  {
   "cell_type": "code",
   "execution_count": 4,
   "id": "896666c1-e87d-4dd5-962c-518be1bbbd21",
   "metadata": {},
   "outputs": [],
   "source": [
    "transpose_img=cv2.transpose(img)"
   ]
  },
  {
   "cell_type": "code",
   "execution_count": null,
   "id": "de882780",
   "metadata": {},
   "outputs": [],
   "source": [
    "cv2.imshow(\"Original Image\",img)\n",
    "cv2.imshow(\"Transpose Image\",transpose_img)\n",
    "cv2.waitKey(0)\n",
    "cv2.destroyAllWindows()"
   ]
  },
  {
   "cell_type": "code",
   "execution_count": null,
   "id": "c015219a",
   "metadata": {},
   "outputs": [],
   "source": []
  }
 ],
 "metadata": {
  "kernelspec": {
   "display_name": "Python 3 (ipykernel)",
   "language": "python",
   "name": "python3"
  },
  "language_info": {
   "codemirror_mode": {
    "name": "ipython",
    "version": 3
   },
   "file_extension": ".py",
   "mimetype": "text/x-python",
   "name": "python",
   "nbconvert_exporter": "python",
   "pygments_lexer": "ipython3",
   "version": "3.9.13"
  }
 },
 "nbformat": 4,
 "nbformat_minor": 5
}
