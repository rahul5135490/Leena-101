{
 "cells": [
  {
   "cell_type": "code",
   "execution_count": 7,
   "id": "edc8b164-2b54-490d-a969-07cf2ddec0f4",
   "metadata": {},
   "outputs": [],
   "source": [
    "import cv2\n",
    "import numpy as np\n",
    "import os"
   ]
  },
  {
   "cell_type": "code",
   "execution_count": 8,
   "id": "63da5908-dbf0-49bc-94c5-d962157ed7e2",
   "metadata": {},
   "outputs": [],
   "source": [
    "img=cv2.imread(\"lena5.jpg\")"
   ]
  },
  {
   "cell_type": "code",
   "execution_count": 9,
   "id": "896666c1-e87d-4dd5-962c-518be1bbbd21",
   "metadata": {},
   "outputs": [],
   "source": [
    "img[:,:,0]=255"
   ]
  },
  {
   "cell_type": "code",
   "execution_count": null,
   "id": "de882780",
   "metadata": {},
   "outputs": [],
   "source": [
    "cv2.imshow(\"Processed Image\",img)\n",
    "cv2.waitKey(0)\n",
    "cv2.destroyAllWindows()"
   ]
  },
  {
   "cell_type": "code",
   "execution_count": null,
   "id": "f6a6d26c",
   "metadata": {},
   "outputs": [],
   "source": [
    "# change image pixels"
   ]
  },
  {
   "cell_type": "code",
   "execution_count": null,
   "id": "e97b73fa",
   "metadata": {},
   "outputs": [],
   "source": [
    "print(img.shape)"
   ]
  },
  {
   "cell_type": "code",
   "execution_count": null,
   "id": "9a4dc530",
   "metadata": {},
   "outputs": [],
   "source": []
  }
 ],
 "metadata": {
  "kernelspec": {
   "display_name": "Python 3 (ipykernel)",
   "language": "python",
   "name": "python3"
  },
  "language_info": {
   "codemirror_mode": {
    "name": "ipython",
    "version": 3
   },
   "file_extension": ".py",
   "mimetype": "text/x-python",
   "name": "python",
   "nbconvert_exporter": "python",
   "pygments_lexer": "ipython3",
   "version": "3.9.13"
  }
 },
 "nbformat": 4,
 "nbformat_minor": 5
}
